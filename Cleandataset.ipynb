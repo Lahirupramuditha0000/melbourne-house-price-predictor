{
 "cells": [
  {
   "cell_type": "code",
   "execution_count": 10,
   "id": "aeb37326-5d28-4beb-8f31-0deaf71d6971",
   "metadata": {},
   "outputs": [],
   "source": [
    "import pandas as pd\n",
    "from sklearn.preprocessing import StandardScaler\n",
    "\n",
    "# Load data\n",
    "df = pd.read_csv('melb_data.csv')\n"
   ]
  },
  {
   "cell_type": "code",
   "execution_count": 11,
   "id": "2acb6a3c-e798-4923-af46-c5f0fae98331",
   "metadata": {},
   "outputs": [
    {
     "name": "stdout",
     "output_type": "stream",
     "text": [
      "Suburb              0\n",
      "Address             0\n",
      "Rooms               0\n",
      "Type                0\n",
      "Price               0\n",
      "Method              0\n",
      "SellerG             0\n",
      "Date                0\n",
      "Distance            0\n",
      "Postcode            0\n",
      "Bedroom2            0\n",
      "Bathroom            0\n",
      "Car                62\n",
      "Landsize            0\n",
      "BuildingArea     6450\n",
      "YearBuilt        5375\n",
      "CouncilArea      1369\n",
      "Lattitude           0\n",
      "Longtitude          0\n",
      "Regionname          0\n",
      "Propertycount       0\n",
      "dtype: int64\n"
     ]
    }
   ],
   "source": [
    "# Check missing values\n",
    "print(df.isnull().sum())"
   ]
  },
  {
   "cell_type": "code",
   "execution_count": 12,
   "id": "fb1bc807-10d2-49d7-959c-a48729474802",
   "metadata": {},
   "outputs": [
    {
     "name": "stderr",
     "output_type": "stream",
     "text": [
      "/tmp/ipykernel_14878/3737079260.py:2: FutureWarning: A value is trying to be set on a copy of a DataFrame or Series through chained assignment using an inplace method.\n",
      "The behavior will change in pandas 3.0. This inplace method will never work because the intermediate object on which we are setting values always behaves as a copy.\n",
      "\n",
      "For example, when doing 'df[col].method(value, inplace=True)', try using 'df.method({col: value}, inplace=True)' or df[col] = df[col].method(value) instead, to perform the operation inplace on the original object.\n",
      "\n",
      "\n",
      "  df['YearBuilt'].fillna(df['YearBuilt'].median(), inplace=True)\n"
     ]
    }
   ],
   "source": [
    "# Fill missing YearBuilt with median\n",
    "df['YearBuilt'].fillna(df['YearBuilt'].median(), inplace=True)"
   ]
  },
  {
   "cell_type": "code",
   "execution_count": 13,
   "id": "390e349c-668b-460a-b240-e4c55f58bff6",
   "metadata": {},
   "outputs": [],
   "source": [
    "# Drop rows missing Price (target!)\n",
    "df = df.dropna(subset=['Price'])\n"
   ]
  },
  {
   "cell_type": "code",
   "execution_count": 14,
   "id": "e378e6e5-d105-43e9-8724-af02a46c8bd7",
   "metadata": {},
   "outputs": [],
   "source": [
    "# Clean suburb names\n",
    "df['Suburb'] = df['Suburb'].str.title().str.strip()\n"
   ]
  },
  {
   "cell_type": "code",
   "execution_count": 15,
   "id": "8dd89353-4662-40ad-abde-946b22149f16",
   "metadata": {},
   "outputs": [],
   "source": [
    "# One-hot encode suburbs\n",
    "df = pd.get_dummies(df, columns=['Suburb'], drop_first=True)"
   ]
  },
  {
   "cell_type": "code",
   "execution_count": null,
   "id": "d91cca99-3cf1-4c70-8e46-61b4bc942b9d",
   "metadata": {},
   "outputs": [],
   "source": []
  },
  {
   "cell_type": "code",
   "execution_count": null,
   "id": "0fe1e1c6-d74c-472a-bcf0-b71c2763b72d",
   "metadata": {},
   "outputs": [],
   "source": []
  },
  {
   "cell_type": "code",
   "execution_count": null,
   "id": "8c25d6c0-1dea-419b-931f-7877ba554473",
   "metadata": {},
   "outputs": [],
   "source": []
  }
 ],
 "metadata": {
  "kernelspec": {
   "display_name": "Python 3 (ipykernel)",
   "language": "python",
   "name": "python3"
  },
  "language_info": {
   "codemirror_mode": {
    "name": "ipython",
    "version": 3
   },
   "file_extension": ".py",
   "mimetype": "text/x-python",
   "name": "python",
   "nbconvert_exporter": "python",
   "pygments_lexer": "ipython3",
   "version": "3.13.2"
  }
 },
 "nbformat": 4,
 "nbformat_minor": 5
}
